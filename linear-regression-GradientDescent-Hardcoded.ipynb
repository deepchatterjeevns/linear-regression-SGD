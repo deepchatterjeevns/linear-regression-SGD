{
 "cells": [
  {
   "cell_type": "markdown",
   "metadata": {},
   "source": [
    "# Linear Regression Gradient Descent Hardcoded\n",
    "In this notebook, we are going to hardcode the linear regression algorithm with gradient descent (no use of libraries like scikit-learn and such)."
   ]
  },
  {
   "cell_type": "markdown",
   "metadata": {},
   "source": [
    "## Imports + comfigurations\n",
    "In here, we are going to import our dependencies."
   ]
  },
  {
   "cell_type": "code",
   "execution_count": 1,
   "metadata": {},
   "outputs": [],
   "source": [
    "import numpy as np\n",
    "import pandas as pd\n",
    "from matplotlib import pyplot as plt\n",
    "from matplotlib.animation import FuncAnimation\n",
    "from IPython.display import clear_output\n",
    "from IPython.display import Image\n",
    "import pickle\n",
    "import logging\n",
    "import time\n",
    "import random\n",
    "from enum import Enum"
   ]
  },
  {
   "cell_type": "markdown",
   "metadata": {},
   "source": [
    "We now configure the logger."
   ]
  },
  {
   "cell_type": "code",
   "execution_count": 2,
   "metadata": {},
   "outputs": [],
   "source": [
    "# we define our log repository\n",
    "LOG_REPOSITORY = \"./logs/\"\n",
    "\n",
    "# and we configure our logger\n",
    "logging.basicConfig(filename = LOG_REPOSITORY + 'linear-regression-GradientDescent-Hardcoded.log', \n",
    "                    format='%(asctime)s [%(levelname)s]: %(message)s', \n",
    "                    level=logging.DEBUG)\n"
   ]
  },
  {
   "cell_type": "markdown",
   "metadata": {},
   "source": [
    "In here, we import our data.<br>\n",
    "The dataset represents the changes in temperature during the world war 2.<br>\n",
    "I got the data from kaggle: __[Weather World War 2](https://www.kaggle.com/smid80/weatherww2)__."
   ]
  },
  {
   "cell_type": "code",
   "execution_count": 3,
   "metadata": {},
   "outputs": [
    {
     "data": {
      "text/html": [
       "<div>\n",
       "<style scoped>\n",
       "    .dataframe tbody tr th:only-of-type {\n",
       "        vertical-align: middle;\n",
       "    }\n",
       "\n",
       "    .dataframe tbody tr th {\n",
       "        vertical-align: top;\n",
       "    }\n",
       "\n",
       "    .dataframe thead th {\n",
       "        text-align: right;\n",
       "    }\n",
       "</style>\n",
       "<table border=\"1\" class=\"dataframe\">\n",
       "  <thead>\n",
       "    <tr style=\"text-align: right;\">\n",
       "      <th></th>\n",
       "      <th>STA</th>\n",
       "      <th>Date</th>\n",
       "      <th>Precip</th>\n",
       "      <th>WindGustSpd</th>\n",
       "      <th>MaxTemp</th>\n",
       "      <th>MinTemp</th>\n",
       "      <th>MeanTemp</th>\n",
       "      <th>Snowfall</th>\n",
       "      <th>PoorWeather</th>\n",
       "      <th>YR</th>\n",
       "      <th>...</th>\n",
       "      <th>FB</th>\n",
       "      <th>FTI</th>\n",
       "      <th>ITH</th>\n",
       "      <th>PGT</th>\n",
       "      <th>TSHDSBRSGF</th>\n",
       "      <th>SD3</th>\n",
       "      <th>RHX</th>\n",
       "      <th>RHN</th>\n",
       "      <th>RVG</th>\n",
       "      <th>WTE</th>\n",
       "    </tr>\n",
       "  </thead>\n",
       "  <tbody>\n",
       "    <tr>\n",
       "      <th>53494</th>\n",
       "      <td>22502</td>\n",
       "      <td>1943-3-29</td>\n",
       "      <td>0</td>\n",
       "      <td>0.0</td>\n",
       "      <td>25.555556</td>\n",
       "      <td>19.444444</td>\n",
       "      <td>22.222222</td>\n",
       "      <td>0</td>\n",
       "      <td>0</td>\n",
       "      <td>43</td>\n",
       "      <td>...</td>\n",
       "      <td>0.0</td>\n",
       "      <td>0.0</td>\n",
       "      <td>0.0</td>\n",
       "      <td>0.0</td>\n",
       "      <td>0</td>\n",
       "      <td>0.0</td>\n",
       "      <td>0.0</td>\n",
       "      <td>0.0</td>\n",
       "      <td>0.0</td>\n",
       "      <td>0.0</td>\n",
       "    </tr>\n",
       "    <tr>\n",
       "      <th>6246</th>\n",
       "      <td>10505</td>\n",
       "      <td>1945-9-8</td>\n",
       "      <td>0</td>\n",
       "      <td>0.0</td>\n",
       "      <td>33.333333</td>\n",
       "      <td>21.111111</td>\n",
       "      <td>27.222222</td>\n",
       "      <td>0</td>\n",
       "      <td>0</td>\n",
       "      <td>45</td>\n",
       "      <td>...</td>\n",
       "      <td>0.0</td>\n",
       "      <td>0.0</td>\n",
       "      <td>0.0</td>\n",
       "      <td>0.0</td>\n",
       "      <td>0</td>\n",
       "      <td>0.0</td>\n",
       "      <td>0.0</td>\n",
       "      <td>0.0</td>\n",
       "      <td>0.0</td>\n",
       "      <td>0.0</td>\n",
       "    </tr>\n",
       "    <tr>\n",
       "      <th>44223</th>\n",
       "      <td>16202</td>\n",
       "      <td>1942-1-13</td>\n",
       "      <td>0</td>\n",
       "      <td>0.0</td>\n",
       "      <td>0.000000</td>\n",
       "      <td>-1.111111</td>\n",
       "      <td>-0.555556</td>\n",
       "      <td>0</td>\n",
       "      <td>0</td>\n",
       "      <td>42</td>\n",
       "      <td>...</td>\n",
       "      <td>0.0</td>\n",
       "      <td>0.0</td>\n",
       "      <td>0.0</td>\n",
       "      <td>0.0</td>\n",
       "      <td>0</td>\n",
       "      <td>0.0</td>\n",
       "      <td>0.0</td>\n",
       "      <td>0.0</td>\n",
       "      <td>0.0</td>\n",
       "      <td>0.0</td>\n",
       "    </tr>\n",
       "    <tr>\n",
       "      <th>57844</th>\n",
       "      <td>22507</td>\n",
       "      <td>1945-10-29</td>\n",
       "      <td>1.778</td>\n",
       "      <td>0.0</td>\n",
       "      <td>28.888889</td>\n",
       "      <td>20.000000</td>\n",
       "      <td>24.444444</td>\n",
       "      <td>0</td>\n",
       "      <td>1</td>\n",
       "      <td>45</td>\n",
       "      <td>...</td>\n",
       "      <td>0.0</td>\n",
       "      <td>0.0</td>\n",
       "      <td>0.0</td>\n",
       "      <td>0.0</td>\n",
       "      <td>1</td>\n",
       "      <td>0.0</td>\n",
       "      <td>0.0</td>\n",
       "      <td>0.0</td>\n",
       "      <td>0.0</td>\n",
       "      <td>0.0</td>\n",
       "    </tr>\n",
       "    <tr>\n",
       "      <th>29665</th>\n",
       "      <td>11801</td>\n",
       "      <td>1944-3-11</td>\n",
       "      <td>0</td>\n",
       "      <td>0.0</td>\n",
       "      <td>32.222222</td>\n",
       "      <td>22.222222</td>\n",
       "      <td>27.222222</td>\n",
       "      <td>0</td>\n",
       "      <td>0</td>\n",
       "      <td>44</td>\n",
       "      <td>...</td>\n",
       "      <td>0.0</td>\n",
       "      <td>0.0</td>\n",
       "      <td>0.0</td>\n",
       "      <td>0.0</td>\n",
       "      <td>0</td>\n",
       "      <td>0.0</td>\n",
       "      <td>0.0</td>\n",
       "      <td>0.0</td>\n",
       "      <td>0.0</td>\n",
       "      <td>0.0</td>\n",
       "    </tr>\n",
       "  </tbody>\n",
       "</table>\n",
       "<p>5 rows × 31 columns</p>\n",
       "</div>"
      ],
      "text/plain": [
       "         STA        Date Precip  WindGustSpd    MaxTemp    MinTemp   MeanTemp  \\\n",
       "53494  22502   1943-3-29      0          0.0  25.555556  19.444444  22.222222   \n",
       "6246   10505    1945-9-8      0          0.0  33.333333  21.111111  27.222222   \n",
       "44223  16202   1942-1-13      0          0.0   0.000000  -1.111111  -0.555556   \n",
       "57844  22507  1945-10-29  1.778          0.0  28.888889  20.000000  24.444444   \n",
       "29665  11801   1944-3-11      0          0.0  32.222222  22.222222  27.222222   \n",
       "\n",
       "      Snowfall PoorWeather  YR ...    FB  FTI  ITH  PGT  TSHDSBRSGF  SD3  RHX  \\\n",
       "53494        0           0  43 ...   0.0  0.0  0.0  0.0           0  0.0  0.0   \n",
       "6246         0           0  45 ...   0.0  0.0  0.0  0.0           0  0.0  0.0   \n",
       "44223        0           0  42 ...   0.0  0.0  0.0  0.0           0  0.0  0.0   \n",
       "57844        0           1  45 ...   0.0  0.0  0.0  0.0           1  0.0  0.0   \n",
       "29665        0           0  44 ...   0.0  0.0  0.0  0.0           0  0.0  0.0   \n",
       "\n",
       "       RHN  RVG  WTE  \n",
       "53494  0.0  0.0  0.0  \n",
       "6246   0.0  0.0  0.0  \n",
       "44223  0.0  0.0  0.0  \n",
       "57844  0.0  0.0  0.0  \n",
       "29665  0.0  0.0  0.0  \n",
       "\n",
       "[5 rows x 31 columns]"
      ]
     },
     "execution_count": 3,
     "metadata": {},
     "output_type": "execute_result"
    }
   ],
   "source": [
    "data = pd.read_csv(\"datasets/weather_ww2/Summary of Weather.csv\", delimiter=',', low_memory=False)\n",
    "data.fillna(0,inplace=True)\n",
    "data = data.sample(frac=1)\n",
    "data.head()"
   ]
  },
  {
   "cell_type": "code",
   "execution_count": 4,
   "metadata": {},
   "outputs": [
    {
     "data": {
      "text/html": [
       "<div>\n",
       "<style scoped>\n",
       "    .dataframe tbody tr th:only-of-type {\n",
       "        vertical-align: middle;\n",
       "    }\n",
       "\n",
       "    .dataframe tbody tr th {\n",
       "        vertical-align: top;\n",
       "    }\n",
       "\n",
       "    .dataframe thead th {\n",
       "        text-align: right;\n",
       "    }\n",
       "</style>\n",
       "<table border=\"1\" class=\"dataframe\">\n",
       "  <thead>\n",
       "    <tr style=\"text-align: right;\">\n",
       "      <th></th>\n",
       "      <th>STA</th>\n",
       "      <th>WindGustSpd</th>\n",
       "      <th>MaxTemp</th>\n",
       "      <th>MinTemp</th>\n",
       "      <th>MeanTemp</th>\n",
       "      <th>YR</th>\n",
       "      <th>MO</th>\n",
       "      <th>DA</th>\n",
       "      <th>DR</th>\n",
       "      <th>SPD</th>\n",
       "      <th>...</th>\n",
       "      <th>FT</th>\n",
       "      <th>FB</th>\n",
       "      <th>FTI</th>\n",
       "      <th>ITH</th>\n",
       "      <th>PGT</th>\n",
       "      <th>SD3</th>\n",
       "      <th>RHX</th>\n",
       "      <th>RHN</th>\n",
       "      <th>RVG</th>\n",
       "      <th>WTE</th>\n",
       "    </tr>\n",
       "  </thead>\n",
       "  <tbody>\n",
       "    <tr>\n",
       "      <th>count</th>\n",
       "      <td>119040.000000</td>\n",
       "      <td>119040.000000</td>\n",
       "      <td>119040.000000</td>\n",
       "      <td>119040.000000</td>\n",
       "      <td>119040.000000</td>\n",
       "      <td>119040.000000</td>\n",
       "      <td>119040.000000</td>\n",
       "      <td>119040.000000</td>\n",
       "      <td>119040.000000</td>\n",
       "      <td>119040.000000</td>\n",
       "      <td>...</td>\n",
       "      <td>119040.0</td>\n",
       "      <td>119040.0</td>\n",
       "      <td>119040.0</td>\n",
       "      <td>119040.0</td>\n",
       "      <td>119040.000000</td>\n",
       "      <td>119040.0</td>\n",
       "      <td>119040.0</td>\n",
       "      <td>119040.0</td>\n",
       "      <td>119040.0</td>\n",
       "      <td>119040.0</td>\n",
       "    </tr>\n",
       "    <tr>\n",
       "      <th>mean</th>\n",
       "      <td>29659.435795</td>\n",
       "      <td>0.168818</td>\n",
       "      <td>27.045111</td>\n",
       "      <td>17.789511</td>\n",
       "      <td>22.411631</td>\n",
       "      <td>43.805284</td>\n",
       "      <td>6.726016</td>\n",
       "      <td>15.797530</td>\n",
       "      <td>0.120884</td>\n",
       "      <td>0.091154</td>\n",
       "      <td>...</td>\n",
       "      <td>0.0</td>\n",
       "      <td>0.0</td>\n",
       "      <td>0.0</td>\n",
       "      <td>0.0</td>\n",
       "      <td>0.053300</td>\n",
       "      <td>0.0</td>\n",
       "      <td>0.0</td>\n",
       "      <td>0.0</td>\n",
       "      <td>0.0</td>\n",
       "      <td>0.0</td>\n",
       "    </tr>\n",
       "    <tr>\n",
       "      <th>std</th>\n",
       "      <td>20953.209402</td>\n",
       "      <td>2.611819</td>\n",
       "      <td>8.717817</td>\n",
       "      <td>8.334572</td>\n",
       "      <td>8.297982</td>\n",
       "      <td>1.136718</td>\n",
       "      <td>3.425561</td>\n",
       "      <td>8.794541</td>\n",
       "      <td>2.069915</td>\n",
       "      <td>1.410269</td>\n",
       "      <td>...</td>\n",
       "      <td>0.0</td>\n",
       "      <td>0.0</td>\n",
       "      <td>0.0</td>\n",
       "      <td>0.0</td>\n",
       "      <td>0.886512</td>\n",
       "      <td>0.0</td>\n",
       "      <td>0.0</td>\n",
       "      <td>0.0</td>\n",
       "      <td>0.0</td>\n",
       "      <td>0.0</td>\n",
       "    </tr>\n",
       "    <tr>\n",
       "      <th>min</th>\n",
       "      <td>10001.000000</td>\n",
       "      <td>0.000000</td>\n",
       "      <td>-33.333333</td>\n",
       "      <td>-38.333333</td>\n",
       "      <td>-35.555556</td>\n",
       "      <td>40.000000</td>\n",
       "      <td>1.000000</td>\n",
       "      <td>1.000000</td>\n",
       "      <td>0.000000</td>\n",
       "      <td>0.000000</td>\n",
       "      <td>...</td>\n",
       "      <td>0.0</td>\n",
       "      <td>0.0</td>\n",
       "      <td>0.0</td>\n",
       "      <td>0.0</td>\n",
       "      <td>0.000000</td>\n",
       "      <td>0.0</td>\n",
       "      <td>0.0</td>\n",
       "      <td>0.0</td>\n",
       "      <td>0.0</td>\n",
       "      <td>0.0</td>\n",
       "    </tr>\n",
       "    <tr>\n",
       "      <th>25%</th>\n",
       "      <td>11801.000000</td>\n",
       "      <td>0.000000</td>\n",
       "      <td>25.555556</td>\n",
       "      <td>15.000000</td>\n",
       "      <td>20.555556</td>\n",
       "      <td>43.000000</td>\n",
       "      <td>4.000000</td>\n",
       "      <td>8.000000</td>\n",
       "      <td>0.000000</td>\n",
       "      <td>0.000000</td>\n",
       "      <td>...</td>\n",
       "      <td>0.0</td>\n",
       "      <td>0.0</td>\n",
       "      <td>0.0</td>\n",
       "      <td>0.0</td>\n",
       "      <td>0.000000</td>\n",
       "      <td>0.0</td>\n",
       "      <td>0.0</td>\n",
       "      <td>0.0</td>\n",
       "      <td>0.0</td>\n",
       "      <td>0.0</td>\n",
       "    </tr>\n",
       "    <tr>\n",
       "      <th>50%</th>\n",
       "      <td>22508.000000</td>\n",
       "      <td>0.000000</td>\n",
       "      <td>29.444444</td>\n",
       "      <td>21.111111</td>\n",
       "      <td>25.555556</td>\n",
       "      <td>44.000000</td>\n",
       "      <td>7.000000</td>\n",
       "      <td>16.000000</td>\n",
       "      <td>0.000000</td>\n",
       "      <td>0.000000</td>\n",
       "      <td>...</td>\n",
       "      <td>0.0</td>\n",
       "      <td>0.0</td>\n",
       "      <td>0.0</td>\n",
       "      <td>0.0</td>\n",
       "      <td>0.000000</td>\n",
       "      <td>0.0</td>\n",
       "      <td>0.0</td>\n",
       "      <td>0.0</td>\n",
       "      <td>0.0</td>\n",
       "      <td>0.0</td>\n",
       "    </tr>\n",
       "    <tr>\n",
       "      <th>75%</th>\n",
       "      <td>33501.000000</td>\n",
       "      <td>0.000000</td>\n",
       "      <td>31.666667</td>\n",
       "      <td>23.333333</td>\n",
       "      <td>27.222222</td>\n",
       "      <td>45.000000</td>\n",
       "      <td>10.000000</td>\n",
       "      <td>23.000000</td>\n",
       "      <td>0.000000</td>\n",
       "      <td>0.000000</td>\n",
       "      <td>...</td>\n",
       "      <td>0.0</td>\n",
       "      <td>0.0</td>\n",
       "      <td>0.0</td>\n",
       "      <td>0.0</td>\n",
       "      <td>0.000000</td>\n",
       "      <td>0.0</td>\n",
       "      <td>0.0</td>\n",
       "      <td>0.0</td>\n",
       "      <td>0.0</td>\n",
       "      <td>0.0</td>\n",
       "    </tr>\n",
       "    <tr>\n",
       "      <th>max</th>\n",
       "      <td>82506.000000</td>\n",
       "      <td>75.932000</td>\n",
       "      <td>50.000000</td>\n",
       "      <td>34.444444</td>\n",
       "      <td>40.000000</td>\n",
       "      <td>45.000000</td>\n",
       "      <td>12.000000</td>\n",
       "      <td>31.000000</td>\n",
       "      <td>78.000000</td>\n",
       "      <td>41.000000</td>\n",
       "      <td>...</td>\n",
       "      <td>0.0</td>\n",
       "      <td>0.0</td>\n",
       "      <td>0.0</td>\n",
       "      <td>0.0</td>\n",
       "      <td>23.900000</td>\n",
       "      <td>0.0</td>\n",
       "      <td>0.0</td>\n",
       "      <td>0.0</td>\n",
       "      <td>0.0</td>\n",
       "      <td>0.0</td>\n",
       "    </tr>\n",
       "  </tbody>\n",
       "</table>\n",
       "<p>8 rows × 24 columns</p>\n",
       "</div>"
      ],
      "text/plain": [
       "                 STA    WindGustSpd        MaxTemp        MinTemp  \\\n",
       "count  119040.000000  119040.000000  119040.000000  119040.000000   \n",
       "mean    29659.435795       0.168818      27.045111      17.789511   \n",
       "std     20953.209402       2.611819       8.717817       8.334572   \n",
       "min     10001.000000       0.000000     -33.333333     -38.333333   \n",
       "25%     11801.000000       0.000000      25.555556      15.000000   \n",
       "50%     22508.000000       0.000000      29.444444      21.111111   \n",
       "75%     33501.000000       0.000000      31.666667      23.333333   \n",
       "max     82506.000000      75.932000      50.000000      34.444444   \n",
       "\n",
       "            MeanTemp             YR             MO             DA  \\\n",
       "count  119040.000000  119040.000000  119040.000000  119040.000000   \n",
       "mean       22.411631      43.805284       6.726016      15.797530   \n",
       "std         8.297982       1.136718       3.425561       8.794541   \n",
       "min       -35.555556      40.000000       1.000000       1.000000   \n",
       "25%        20.555556      43.000000       4.000000       8.000000   \n",
       "50%        25.555556      44.000000       7.000000      16.000000   \n",
       "75%        27.222222      45.000000      10.000000      23.000000   \n",
       "max        40.000000      45.000000      12.000000      31.000000   \n",
       "\n",
       "                  DR            SPD    ...           FT        FB       FTI  \\\n",
       "count  119040.000000  119040.000000    ...     119040.0  119040.0  119040.0   \n",
       "mean        0.120884       0.091154    ...          0.0       0.0       0.0   \n",
       "std         2.069915       1.410269    ...          0.0       0.0       0.0   \n",
       "min         0.000000       0.000000    ...          0.0       0.0       0.0   \n",
       "25%         0.000000       0.000000    ...          0.0       0.0       0.0   \n",
       "50%         0.000000       0.000000    ...          0.0       0.0       0.0   \n",
       "75%         0.000000       0.000000    ...          0.0       0.0       0.0   \n",
       "max        78.000000      41.000000    ...          0.0       0.0       0.0   \n",
       "\n",
       "            ITH            PGT       SD3       RHX       RHN       RVG  \\\n",
       "count  119040.0  119040.000000  119040.0  119040.0  119040.0  119040.0   \n",
       "mean        0.0       0.053300       0.0       0.0       0.0       0.0   \n",
       "std         0.0       0.886512       0.0       0.0       0.0       0.0   \n",
       "min         0.0       0.000000       0.0       0.0       0.0       0.0   \n",
       "25%         0.0       0.000000       0.0       0.0       0.0       0.0   \n",
       "50%         0.0       0.000000       0.0       0.0       0.0       0.0   \n",
       "75%         0.0       0.000000       0.0       0.0       0.0       0.0   \n",
       "max         0.0      23.900000       0.0       0.0       0.0       0.0   \n",
       "\n",
       "            WTE  \n",
       "count  119040.0  \n",
       "mean        0.0  \n",
       "std         0.0  \n",
       "min         0.0  \n",
       "25%         0.0  \n",
       "50%         0.0  \n",
       "75%         0.0  \n",
       "max         0.0  \n",
       "\n",
       "[8 rows x 24 columns]"
      ]
     },
     "execution_count": 4,
     "metadata": {},
     "output_type": "execute_result"
    }
   ],
   "source": [
    "data.describe()"
   ]
  },
  {
   "cell_type": "markdown",
   "metadata": {},
   "source": [
    "## Representing the data\n",
    "Now we select the rows we are going to use."
   ]
  },
  {
   "cell_type": "code",
   "execution_count": 5,
   "metadata": {},
   "outputs": [
    {
     "data": {
      "text/html": [
       "<div>\n",
       "<style scoped>\n",
       "    .dataframe tbody tr th:only-of-type {\n",
       "        vertical-align: middle;\n",
       "    }\n",
       "\n",
       "    .dataframe tbody tr th {\n",
       "        vertical-align: top;\n",
       "    }\n",
       "\n",
       "    .dataframe thead th {\n",
       "        text-align: right;\n",
       "    }\n",
       "</style>\n",
       "<table border=\"1\" class=\"dataframe\">\n",
       "  <thead>\n",
       "    <tr style=\"text-align: right;\">\n",
       "      <th></th>\n",
       "      <th>MaxTemp</th>\n",
       "      <th>MinTemp</th>\n",
       "    </tr>\n",
       "  </thead>\n",
       "  <tbody>\n",
       "    <tr>\n",
       "      <th>count</th>\n",
       "      <td>119040.000000</td>\n",
       "      <td>119040.000000</td>\n",
       "    </tr>\n",
       "    <tr>\n",
       "      <th>mean</th>\n",
       "      <td>27.045111</td>\n",
       "      <td>17.789511</td>\n",
       "    </tr>\n",
       "    <tr>\n",
       "      <th>std</th>\n",
       "      <td>8.717817</td>\n",
       "      <td>8.334572</td>\n",
       "    </tr>\n",
       "    <tr>\n",
       "      <th>min</th>\n",
       "      <td>-33.333333</td>\n",
       "      <td>-38.333333</td>\n",
       "    </tr>\n",
       "    <tr>\n",
       "      <th>25%</th>\n",
       "      <td>25.555556</td>\n",
       "      <td>15.000000</td>\n",
       "    </tr>\n",
       "    <tr>\n",
       "      <th>50%</th>\n",
       "      <td>29.444444</td>\n",
       "      <td>21.111111</td>\n",
       "    </tr>\n",
       "    <tr>\n",
       "      <th>75%</th>\n",
       "      <td>31.666667</td>\n",
       "      <td>23.333333</td>\n",
       "    </tr>\n",
       "    <tr>\n",
       "      <th>max</th>\n",
       "      <td>50.000000</td>\n",
       "      <td>34.444444</td>\n",
       "    </tr>\n",
       "  </tbody>\n",
       "</table>\n",
       "</div>"
      ],
      "text/plain": [
       "             MaxTemp        MinTemp\n",
       "count  119040.000000  119040.000000\n",
       "mean       27.045111      17.789511\n",
       "std         8.717817       8.334572\n",
       "min       -33.333333     -38.333333\n",
       "25%        25.555556      15.000000\n",
       "50%        29.444444      21.111111\n",
       "75%        31.666667      23.333333\n",
       "max        50.000000      34.444444"
      ]
     },
     "execution_count": 5,
     "metadata": {},
     "output_type": "execute_result"
    }
   ],
   "source": [
    "columns = ['MaxTemp','MinTemp']\n",
    "filteredColumns = data[columns]\n",
    "filteredColumns.describe()"
   ]
  },
  {
   "cell_type": "markdown",
   "metadata": {},
   "source": [
    "We print a plot graph representing the data."
   ]
  },
  {
   "cell_type": "code",
   "execution_count": 6,
   "metadata": {},
   "outputs": [
    {
     "data": {
      "text/plain": [
       "[<matplotlib.lines.Line2D at 0x2955170f908>]"
      ]
     },
     "execution_count": 6,
     "metadata": {},
     "output_type": "execute_result"
    },
    {
     "data": {
      "image/png": "[encoded data removed]",
      "text/plain": [
       "<Figure size 1080x720 with 1 Axes>"
      ]
     },
     "metadata": {},
     "output_type": "display_data"
    }
   ],
   "source": [
    "plt.figure(figsize=(15,10))\n",
    "x = filteredColumns['MinTemp']\n",
    "y = filteredColumns['MaxTemp']\n",
    "plt.plot(x,y,'mo')"
   ]
  },
  {
   "cell_type": "markdown",
   "metadata": {},
   "source": [
    "## Simple linear regression using Gradient Descent\n",
    "We first declare our Error function. We are going to use the __[Mean Squared Error(MSE)](https://en.wikipedia.org/wiki/Mean_squared_error)__ to evaluate our prediction.<br>\n",
    "The Mean Squared Error equation is:<br>\n",
    "$$\n",
    "\\begin{align*}\n",
    "MSE &= \\frac{1}{N}\\sum_{i=1}^N(Y_i - \\hat{Y})^2\n",
    "\\end{align*}\n",
    "$$"
   ]
  },
  {
   "cell_type": "code",
   "execution_count": 7,
   "metadata": {},
   "outputs": [],
   "source": [
    "# Calculate mean squared error\n",
    "def mean_squared_error(actual_values, predicted_values):\n",
    "    sum_value = .0\n",
    "    for i in range(len(actual_values)):\n",
    "        sum_value += ((predicted_values[i] - actual_values[i]) ** 2)\n",
    "        \n",
    "    return sum_value/float(len(actual_values))"
   ]
  },
  {
   "cell_type": "markdown",
   "metadata": {},
   "source": [
    "### Implementation of gradient descent\n",
    "First of all, we need to explain what's __gradient descent__. Simply put, it's a method to find the lowest Y value for a given function. In our case, we need to __minimize__ the __Mean Squared Error__ function to find the best line that fits our data. <br><br>\n",
    "To do that, we need to calculate the __partial derivative__ of our function with respect to both m and b. As we know, a 0 derivative means that we are either in a local minima, or a local maxima. Which means that __the closer we get to 0 the better__.<br><br>\n",
    "The equation of our line:\n",
    "$$\n",
    "\\begin{align*}\n",
    "Y &= mX + b \\\\\n",
    "\\end{align*}\n",
    "$$\n",
    "<br>\n",
    "The __Mean Squared Error__ function after we replace $\\hat{Y}$ with the function:\n",
    "$$\n",
    "\\begin{align*}\n",
    "MSE &= \\frac{1}{n}\\sum_{i=1}^N(Y_i - (mX_i + b))^2\n",
    "\\end{align*}\n",
    "$$\n",
    "<br>\n",
    "Now we calculate the __partial derivative__ of our __Mean Squared Error__ function: <br><br>\n",
    "$$\n",
    "\\begin{align*}\n",
    "\\frac{\\partial}{\\partial m} &= \\frac{2}{N}\\sum_{i=1}^N-X_i(Y_i-(mX_i + b)) \\\\\\\\\n",
    "\\frac{\\partial}{\\partial b} &= \\frac{2}{N}\\sum_{i=1}^N-(Y_i-(mX_i + b))\n",
    "\\end{align*}\n",
    "$$\n",
    "<br>\n",
    "The process of finding the optimal values for m and b is to then __minimize__ our derivatives. To do that we use the __gradient descent__ formula:\n",
    "$$\n",
    "\\begin{align*}\n",
    "a_{n+1} &= a_{n} - \\gamma \\frac{\\partial}{\\partial a_{n}}f(a_n)\n",
    "\\end{align*}\n",
    "$$\n",
    "Where:<br>\n",
    "$\\gamma$ : the learning rate<br>\n",
    "$a_{n+1}$ : the new value<br>\n",
    "$a_n$ : the old value<br>\n",
    "$f(a_n)$ : the function we are looking to minimize\n",
    "<br><br>\n",
    "Sources: \n",
    "* https://towardsdatascience.com/linear-regression-using-gradient-descent-in-10-lines-of-code-642f995339c0\n",
    "* https://www.youtube.com/watch?v=umAeJ7LMCfU\n",
    "* https://medium.com/meta-design-ideas/linear-regression-by-using-gradient-descent-algorithm-your-first-step-towards-machine-learning-a9b9c0ec41b1"
   ]
  },
  {
   "cell_type": "code",
   "execution_count": 8,
   "metadata": {},
   "outputs": [],
   "source": [
    "# calculate the gradient of one step\n",
    "def step_gradient(x,y,b_current=0,m_current=0,learning_rate=.0001):\n",
    "    N = float(len(x))\n",
    "    m_gradient = 0\n",
    "    b_gradient = 0\n",
    "    for i in range(len(x)):\n",
    "        b_gradient += -(2/N) * (y[i] - (m_current * x[i] + b_current))\n",
    "        m_gradient += -(2/N) * x[i] * (y[i] - (m_current * x[i] + b_current))\n",
    "    b_next = b_current - (learning_rate * b_gradient)\n",
    "    m_next = m_current - (learning_rate * m_gradient)\n",
    "    return b_next , m_next"
   ]
  },
  {
   "cell_type": "markdown",
   "metadata": {},
   "source": [
    "In here, we are creating the gradient descent runner."
   ]
  },
  {
   "cell_type": "code",
   "execution_count": 9,
   "metadata": {},
   "outputs": [],
   "source": [
    "# function to delete then print in a jupyter notebook\n",
    "def only_print(text):\n",
    "    clear_output()\n",
    "    print(text)\n",
    "\n",
    "# enumeartion for types of gradient descent\n",
    "class GradientDescentTypes(Enum):\n",
    "    Batch = 1\n",
    "    Stochastic = 2\n",
    "    MiniBatch = 3\n",
    "    \n",
    "# get a sample of the data\n",
    "def get_sample(x,y,size,shuffle=False):\n",
    "    if shuffle:\n",
    "        c = list(zip(x, y))\n",
    "        random.shuffle(c)\n",
    "        x, y = zip(*c)\n",
    "    \n",
    "    x = pd.Series(list(x))\n",
    "    y = pd.Series(list(y))\n",
    "    \n",
    "    x = x.iloc[:size]\n",
    "    y = y.iloc[:size]\n",
    "    \n",
    "    x.index = range(size)\n",
    "    y.index = range(size)\n",
    "    \n",
    "    return x, y\n",
    "    \n",
    "# function to run gradient descent for n iterations\n",
    "def gradient_descent_runner(x,y,b_start=0,m_start=0,learning_rate=.0001,num_iteration=1000, \n",
    "                            learning_method=GradientDescentTypes.Batch, batch_size=256):\n",
    "    b_now = b_start\n",
    "    m_now = m_start\n",
    "    mse = mean_squared_error(y, compute_linear_y_values(x,b_now, m_now))\n",
    "    predictions = [[b_now,m_now,mse]]\n",
    "    if(learning_method is GradientDescentTypes.Batch):\n",
    "        for i in range(num_iteration):\n",
    "            b_now, m_now = step_gradient(x,y,b_now,m_now,learning_rate)\n",
    "            mse = mean_squared_error(y, compute_linear_y_values(x,b_now, m_now))\n",
    "            predictions.append([b_now,m_now,mse])\n",
    "            only_print(\"[b = {}, m = {}, mse = {}, iteration = {}]\".format(b_now,m_now,mse,i))\n",
    "            logging.info(\"[b = {}, m = {}, mse = {}, iteration = {}]\".format(b_now,m_now,mse,i))\n",
    "        return predictions\n",
    "        \n",
    "    elif(learning_method is GradientDescentTypes.Stochastic):\n",
    "        for i in range(num_iteration):\n",
    "            shuffle_x, shuffle_y = get_sample(x,y,1,shuffle=True)\n",
    "            b_now, m_now = step_gradient(shuffle_x,shuffle_y,b_now,m_now,learning_rate)\n",
    "            mse = mean_squared_error(y, compute_linear_y_values(x,b_now, m_now))\n",
    "            predictions.append([b_now,m_now,mse])\n",
    "            only_print(\"[b = {}, m = {}, mse = {}, iteration = {}]\".format(b_now,m_now,mse,i))\n",
    "            logging.info(\"[b = {}, m = {}, mse = {}, iteration = {}]\".format(b_now,m_now,mse,i))\n",
    "        return predictions\n",
    "        \n",
    "    elif(learning_method is GradientDescentTypes.MiniBatch):\n",
    "        for i in range(num_iteration):\n",
    "            shuffle_x, shuffle_y = get_sample(x,y,batch_size,shuffle=True)\n",
    "            b_now, m_now = step_gradient(shuffle_x,shuffle_y,b_now,m_now,learning_rate)\n",
    "            mse = mean_squared_error(y, compute_linear_y_values(x,b_now, m_now))\n",
    "            predictions.append([b_now,m_now,mse])\n",
    "            only_print(\"[b = {}, m = {}, mse = {}, iteration = {}]\".format(b_now,m_now,mse,i))\n",
    "            logging.info(\"[b = {}, m = {}, mse = {}, iteration = {}]\".format(b_now,m_now,mse,i))\n",
    "        return predictions\n",
    "    else:\n",
    "        return []"
   ]
  },
  {
   "cell_type": "markdown",
   "metadata": {},
   "source": [
    "We declare a function to split our data as training and testing."
   ]
  },
  {
   "cell_type": "code",
   "execution_count": 10,
   "metadata": {},
   "outputs": [],
   "source": [
    "# function for splitting the data into training and testing\n",
    "def split_data(x,train_split_rate = .5):\n",
    "    train_x = x.iloc[:int(round(len(x)*train_split_rate))]\n",
    "    test_x = x.iloc[int(round(len(x)*train_split_rate)):]\n",
    "    \n",
    "    train_x.index = range(len(train_x))\n",
    "    test_x.index = range(len(test_x))\n",
    "    \n",
    "    return train_x, test_x"
   ]
  },
  {
   "cell_type": "markdown",
   "metadata": {},
   "source": [
    "Now we define our starting values of m, b, learning_rate and the epochs (how many iterations to do)."
   ]
  },
  {
   "cell_type": "code",
   "execution_count": 11,
   "metadata": {},
   "outputs": [],
   "source": [
    "# hyperparameters\n",
    "epochs = 100\n",
    "b_start = 0\n",
    "m_start = 0\n",
    "learning_rate = .0005"
   ]
  },
  {
   "cell_type": "markdown",
   "metadata": {},
   "source": [
    "We split our data."
   ]
  },
  {
   "cell_type": "code",
   "execution_count": 12,
   "metadata": {},
   "outputs": [],
   "source": [
    "# splitting the data\n",
    "train_data, test_data = split_data(data,train_split_rate=.5)\n",
    "train_x, test_x = train_data['MinTemp'], test_data['MinTemp']\n",
    "train_y, test_y = train_data['MaxTemp'], test_data['MaxTemp']"
   ]
  },
  {
   "cell_type": "markdown",
   "metadata": {},
   "source": [
    "now we declare a function that calculates the y values based on m, b and X values."
   ]
  },
  {
   "cell_type": "code",
   "execution_count": 13,
   "metadata": {},
   "outputs": [],
   "source": [
    "def compute_linear_y_values(x,b = 0,m = 0):\n",
    "    result = b + (m * x)\n",
    "    return result"
   ]
  },
  {
   "cell_type": "markdown",
   "metadata": {},
   "source": [
    "We declare some methods for saving and getting the data from a file with __[pickle](https://docs.python.org/3/library/pickle.html#data-stream-format)__."
   ]
  },
  {
   "cell_type": "code",
   "execution_count": 14,
   "metadata": {},
   "outputs": [],
   "source": [
    "# we define our save repository\n",
    "SAVE_REPOSITORY = \"./data_saves/linear-regression-GradientDescent-Hardcoded/\"\n",
    "\n",
    "# function to save data into a file\n",
    "def save_to_file(filename,data):\n",
    "    with open(SAVE_REPOSITORY + filename, 'wb') as fp:\n",
    "        pickle.dump(data, fp)\n",
    "        \n",
    "# function to get data from a file\n",
    "def get_from_file(filename):\n",
    "    with open (SAVE_REPOSITORY + filename, 'rb') as fp:\n",
    "        return pickle.load(fp)\n"
   ]
  },
  {
   "cell_type": "markdown",
   "metadata": {},
   "source": [
    "We now compute our predictions."
   ]
  },
  {
   "cell_type": "code",
   "execution_count": 15,
   "metadata": {
    "scrolled": true
   },
   "outputs": [
    {
     "name": "stdout",
     "output_type": "stream",
     "text": [
      "[b = 0.25101275982030513, m = 1.3999580953719957, mse = 36.33722584468994, iteration = 99]\n"
     ]
    }
   ],
   "source": [
    "predictions = gradient_descent_runner(train_x,train_y,b_start,m_start,learning_rate,epochs)\n",
    "\n",
    "# if you want to load a saved data just execute the following\n",
    "# predictions = get_from_file('prediction_array.pkl')"
   ]
  },
  {
   "cell_type": "markdown",
   "metadata": {},
   "source": [
    "And we save the data into a file."
   ]
  },
  {
   "cell_type": "code",
   "execution_count": 16,
   "metadata": {},
   "outputs": [],
   "source": [
    "save_to_file('prediction1_array.pkl', predictions)"
   ]
  },
  {
   "cell_type": "markdown",
   "metadata": {},
   "source": [
    "This part is dedicated for the animation of gradient descent linear regression algorithm."
   ]
  },
  {
   "cell_type": "code",
   "execution_count": 17,
   "metadata": {
    "scrolled": false
   },
   "outputs": [
    {
     "data": {
      "image/png": "[encoded data removed]",
      "text/plain": [
       "<Figure size 864x576 with 1 Axes>"
      ]
     },
     "metadata": {},
     "output_type": "display_data"
    }
   ],
   "source": [
    "\n",
    "# plot parameters\n",
    "fig, ax = plt.subplots(figsize=(12,8))\n",
    "ax.scatter(x,y,color = \"y\", marker = \"o\", s = 30)\n",
    "x_line = pd.Series([min(train_x),max(train_x)])\n",
    "x_line.index = range(int(len(x_line)))\n",
    "ln, = ax.plot(x_line, compute_linear_y_values(x_line,b_start,m_start), color = \"m\", linewidth=2, animated = True)\n",
    "\n",
    "# initialisation of plot data\n",
    "def init_function():\n",
    "    ln.set_data(x_line, compute_linear_y_values(x_line,b_start,m_start))\n",
    "    #predictions = gradient_descent_runner(x,y,b_start,m_start,learning_rate,epochs)\n",
    "    return ln,\n",
    "    \n",
    "# the update function of our animation\n",
    "def update_function(frame):\n",
    "    y_predicted = compute_linear_y_values(x_line,predictions[frame][0], predictions[frame][1])\n",
    "    ln.set_ydata(y_predicted)\n",
    "    #mse = mean_squared_error(train_y, y_predicted)\n",
    "    ax.set_xlabel(\"MSE = {}\".format(predictions[frame][2]))\n",
    "    return ln,\n",
    "\n",
    "anim = FuncAnimation(fig, update_function, epochs, blit=False, interval=1,\n",
    "                              repeat=True, init_func=init_function)\n",
    "\n",
    "#save the plot as a gif\n",
    "anim.save('./animations/linear-regression-GradientDescent-Hardcoded_3.gif', dpi=80, writer='imagemagick')\n",
    "\n",
    "clear_output()"
   ]
  },
  {
   "cell_type": "markdown",
   "metadata": {},
   "source": [
    "And lastly, we print the result as a gif.<br>\n",
    "<img src=\"./animations/linear-regression-GradientDescent-Hardcoded_3.gif\" />"
   ]
  },
  {
   "cell_type": "code",
   "execution_count": 18,
   "metadata": {},
   "outputs": [],
   "source": [
    "# print the result in a gif format\n",
    "#with open('./animations/linear-regression-GradientDescent-Hardcoded_3.gif','rb') as f:\n",
    "#    display(Image(data=f.read(), format='gif'))"
   ]
  },
  {
   "cell_type": "markdown",
   "metadata": {},
   "source": [
    "We print now the Mean Squared Error."
   ]
  },
  {
   "cell_type": "code",
   "execution_count": 19,
   "metadata": {},
   "outputs": [
    {
     "name": "stdout",
     "output_type": "stream",
     "text": [
      "Testing MSE = 37.693743514445295\n"
     ]
    }
   ],
   "source": [
    "max_index = int(len(predictions)-1)\n",
    "last_b, last_m = predictions[max_index][0], predictions[max_index][1]\n",
    "test_result = compute_linear_y_values(test_x,last_b,last_m)\n",
    "mse = mean_squared_error(test_y, test_result)\n",
    "print(\"Testing MSE = {}\".format(mse))"
   ]
  },
  {
   "cell_type": "markdown",
   "metadata": {},
   "source": [
    "Lastly, we print a plot representing our loss function."
   ]
  },
  {
   "cell_type": "code",
   "execution_count": 20,
   "metadata": {},
   "outputs": [
    {
     "data": {
      "image/png": "[encoded data removed]",
      "text/plain": [
       "<Figure size 864x576 with 1 Axes>"
      ]
     },
     "metadata": {},
     "output_type": "display_data"
    }
   ],
   "source": [
    "plt.subplots(figsize=(12,8))\n",
    "x_values = [i for i in range(len(predictions))]\n",
    "y_values = [m[2] for m in predictions]\n",
    "plt.plot(x_values, y_values, color = \"b\", label=\"Mean Squared Error function\")\n",
    "plt.legend()\n",
    "plt.show()\n"
   ]
  },
  {
   "cell_type": "code",
   "execution_count": 21,
   "metadata": {
    "scrolled": true
   },
   "outputs": [],
   "source": [
    "# print(predictions)"
   ]
  },
  {
   "cell_type": "markdown",
   "metadata": {},
   "source": [
    "In here, we analyse the difference between the different types of gradient descent.<br>\n",
    "So first, we execute our 3 algorithms while calculating the time passed on each of them.<br><br>\n",
    "We begin with the batch method which uses all the data as input (test data). This one is really slow and don't scale well if we have a massive data.<br>\n",
    "The second one is the stochastic approche. It consists of picking up a point at random of our test data and try to optimize our model using that point. and repeat that process. This approche is very sloppy but it gets near the optimal value very quickly.<br>\n",
    "The last approche is the mini-batch one. It's a mix between the other two. It uses a selected random set of points at each iteration the optimize our model.<br><br>\n",
    "<b>For further reading:</b> https://www.hackerearth.com/blog/machine-learning/3-types-gradient-descent-algorithms-small-large-data-sets/"
   ]
  },
  {
   "cell_type": "code",
   "execution_count": 22,
   "metadata": {},
   "outputs": [
    {
     "name": "stdout",
     "output_type": "stream",
     "text": [
      "[b = 0.24741373921590687, m = 1.4084715434184616, mse = 36.378856431652345, iteration = 99]\n"
     ]
    }
   ],
   "source": [
    "# batch gradient descent\n",
    "start_time = time.time()\n",
    "predictions_batch = gradient_descent_runner(train_x,train_y,b_start,m_start,learning_rate,epochs, \n",
    "                                      learning_method=GradientDescentTypes.Batch)\n",
    "passed_time_batch = time.time() - start_time\n",
    "\n",
    "# stochastic gradient descent\n",
    "start_time = time.time()\n",
    "predictions_stochastic = gradient_descent_runner(train_x,train_y,b_start,m_start,learning_rate,epochs, \n",
    "                                      learning_method=GradientDescentTypes.Stochastic)\n",
    "passed_time_stochastic = time.time() - start_time\n",
    "\n",
    "# mini-batch gradient descent\n",
    "start_time = time.time()\n",
    "predictions_miniBatch = gradient_descent_runner(train_x,train_y,b_start,m_start,learning_rate,epochs, \n",
    "                                      learning_method=GradientDescentTypes.MiniBatch,batch_size=256)\n",
    "passed_time_miniBatch = time.time() - start_time"
   ]
  },
  {
   "cell_type": "markdown",
   "metadata": {},
   "source": [
    "We print out the time passed in each of them."
   ]
  },
  {
   "cell_type": "code",
   "execution_count": 23,
   "metadata": {},
   "outputs": [
    {
     "name": "stdout",
     "output_type": "stream",
     "text": [
      "time passed with batch: 871.5710747241974\n",
      "time passed with stochastic: 280.48103976249695\n",
      "time passed with mini-batch: 289.4468123912811\n"
     ]
    }
   ],
   "source": [
    "print('time passed with batch: {}'.format(passed_time_batch))\n",
    "print('time passed with stochastic: {}'.format(passed_time_stochastic))\n",
    "print('time passed with mini-batch: {}'.format(passed_time_miniBatch))"
   ]
  },
  {
   "cell_type": "markdown",
   "metadata": {},
   "source": [
    "Then we create the animation."
   ]
  },
  {
   "cell_type": "code",
   "execution_count": 25,
   "metadata": {},
   "outputs": [
    {
     "data": {
      "image/png": "[encoded data removed]",
      "text/plain": [
       "<Figure size 864x576 with 1 Axes>"
      ]
     },
     "metadata": {},
     "output_type": "display_data"
    }
   ],
   "source": [
    "# plot parameters\n",
    "fig, ax = plt.subplots(figsize=(12,8))\n",
    "ax.scatter(x,y,color = \"y\", marker = \"o\", s = 30)\n",
    "x_line = pd.Series([min(train_x),max(train_x)])\n",
    "x_line.index = range(int(len(x_line)))\n",
    "ln_batch, = ax.plot(x_line, compute_linear_y_values(x_line,b_start,m_start), color = \"m\", linewidth=2, \n",
    "                    animated = True, label=\"batch\")\n",
    "ln_stochastic, = ax.plot(x_line, compute_linear_y_values(x_line,b_start,m_start), color = \"b\", linewidth=2, \n",
    "                         animated = True, label=\"stochastic\")\n",
    "ln_mini_batch, = ax.plot(x_line, compute_linear_y_values(x_line,b_start,m_start), color = \"r\", linewidth=2, \n",
    "                         animated = True,label=\"mini batch\")\n",
    "\n",
    "# initialisation of plot data\n",
    "def init_function():\n",
    "    ln_batch.set_data(x_line, compute_linear_y_values(x_line,b_start,m_start))\n",
    "    ln_stochastic.set_data(x_line, compute_linear_y_values(x_line,b_start,m_start))\n",
    "    ln_mini_batch.set_data(x_line, compute_linear_y_values(x_line,b_start,m_start))\n",
    "    return ln,\n",
    "    \n",
    "# the update function of our animation\n",
    "def update_function(frame):\n",
    "    y_predicted_batch = compute_linear_y_values(x_line,predictions_batch[frame][0], predictions_batch[frame][1])\n",
    "    ln_batch.set_ydata(y_predicted_batch)\n",
    "    y_predicted_stochastic = compute_linear_y_values(x_line,predictions_stochastic[frame][0], predictions_stochastic[frame][1])\n",
    "    ln_stochastic.set_ydata(y_predicted_stochastic)\n",
    "    y_predicted_mini_batch = compute_linear_y_values(x_line,predictions_miniBatch[frame][0], predictions_miniBatch[frame][1])\n",
    "    ln_mini_batch.set_ydata(y_predicted_mini_batch)\n",
    "    #mse = mean_squared_error(train_y, y_predicted)\n",
    "    ax.set_xlabel(\"MSE: batch = {}, stochastic = {}, mini-batch = {}\".format(predictions_batch[frame][2],\n",
    "                                                                            predictions_stochastic[frame][2],\n",
    "                                                                            predictions_miniBatch[frame][2]))\n",
    "    return ln,\n",
    "\n",
    "anim = FuncAnimation(fig, update_function, epochs, blit=False, interval=1,\n",
    "                              repeat=True, init_func=init_function)\n",
    "\n",
    "#save the plot as a gif\n",
    "anim.save('./animations/linear-regression-GradientDescent-Hardcoded_4.gif', dpi=80, writer='imagemagick')\n",
    "\n",
    "clear_output()"
   ]
  },
  {
   "cell_type": "markdown",
   "metadata": {},
   "source": [
    "And we display the gif.<br>\n",
    "<img src=\"./animations/linear-regression-GradientDescent-Hardcoded_4.gif\" />"
   ]
  },
  {
   "cell_type": "markdown",
   "metadata": {},
   "source": [
    "And lastly, we print a nice plot representing our loss function."
   ]
  },
  {
   "cell_type": "code",
   "execution_count": 26,
   "metadata": {},
   "outputs": [
    {
     "data": {
      "image/png": "[encoded data removed]",
      "text/plain": [
       "<Figure size 864x576 with 1 Axes>"
      ]
     },
     "metadata": {},
     "output_type": "display_data"
    }
   ],
   "source": [
    "plt.subplots(figsize=(12,8))\n",
    "x_values = [i for i in range(len(predictions))]\n",
    "y_values = [m[2] for m in predictions_batch]\n",
    "plt.plot(x_values, y_values, color = \"b\", label=\"Mean Squared Error function(using batch)\")\n",
    "plt.legend()\n",
    "y_values = [m[2] for m in predictions_stochastic]\n",
    "plt.plot(x_values, y_values, color = \"g\", label=\"Mean Squared Error function(using stochastic)\")\n",
    "plt.legend()\n",
    "y_values = [m[2] for m in predictions_miniBatch]\n",
    "plt.plot(x_values, y_values, color = \"r\", label=\"Mean Squared Error function(using mini-batch)\")\n",
    "plt.legend()\n",
    "plt.show()"
   ]
  },
  {
   "cell_type": "code",
   "execution_count": null,
   "metadata": {},
   "outputs": [],
   "source": []
  }
 ],
 "metadata": {
  "kernelspec": {
   "display_name": "linear-regression-SGD",
   "language": "python",
   "name": "linear-regression-sgd"
  },
  "language_info": {
   "codemirror_mode": {
    "name": "ipython",
    "version": 3
   },
   "file_extension": ".py",
   "mimetype": "text/x-python",
   "name": "python",
   "nbconvert_exporter": "python",
   "pygments_lexer": "ipython3",
   "version": "3.6.4"
  }
 },
 "nbformat": 4,
 "nbformat_minor": 2
}
