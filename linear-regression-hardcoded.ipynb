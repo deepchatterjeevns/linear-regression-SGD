{
 "cells": [
  {
   "cell_type": "markdown",
   "metadata": {
    "collapsed": true
   },
   "source": [
    "# Linear Regression Hardcoded\n",
    "\n",
    "In this notebook, we are going to hardcode the linear regression algorithm (no use of libraries like scikit-learn and such)\n",
    "\n",
    "## imports + configurations\n",
    "\n",
    "In here, we are going to import our dependencies"
   ]
  },
  {
   "cell_type": "code",
   "execution_count": 256,
   "metadata": {},
   "outputs": [],
   "source": [
    "import numpy as np\n",
    "import pandas as pd\n",
    "from matplotlib import pyplot as plt\n",
    "from math import sqrt"
   ]
  },
  {
   "cell_type": "markdown",
   "metadata": {},
   "source": [
    "In here, we import our data.<br>\n",
    "The dataset represents the changes in temperature during the world war 2.<br>\n",
    "I got the data from kaggle: __[Weather World War 2](https://www.kaggle.com/smid80/weatherww2)__"
   ]
  },
  {
   "cell_type": "code",
   "execution_count": 257,
   "metadata": {},
   "outputs": [
    {
     "data": {
      "text/html": [
       "<div>\n",
       "<style scoped>\n",
       "    .dataframe tbody tr th:only-of-type {\n",
       "        vertical-align: middle;\n",
       "    }\n",
       "\n",
       "    .dataframe tbody tr th {\n",
       "        vertical-align: top;\n",
       "    }\n",
       "\n",
       "    .dataframe thead th {\n",
       "        text-align: right;\n",
       "    }\n",
       "</style>\n",
       "<table border=\"1\" class=\"dataframe\">\n",
       "  <thead>\n",
       "    <tr style=\"text-align: right;\">\n",
       "      <th></th>\n",
       "      <th>STA</th>\n",
       "      <th>Date</th>\n",
       "      <th>Precip</th>\n",
       "      <th>WindGustSpd</th>\n",
       "      <th>MaxTemp</th>\n",
       "      <th>MinTemp</th>\n",
       "      <th>MeanTemp</th>\n",
       "      <th>Snowfall</th>\n",
       "      <th>PoorWeather</th>\n",
       "      <th>YR</th>\n",
       "      <th>...</th>\n",
       "      <th>FB</th>\n",
       "      <th>FTI</th>\n",
       "      <th>ITH</th>\n",
       "      <th>PGT</th>\n",
       "      <th>TSHDSBRSGF</th>\n",
       "      <th>SD3</th>\n",
       "      <th>RHX</th>\n",
       "      <th>RHN</th>\n",
       "      <th>RVG</th>\n",
       "      <th>WTE</th>\n",
       "    </tr>\n",
       "  </thead>\n",
       "  <tbody>\n",
       "    <tr>\n",
       "      <th>27642</th>\n",
       "      <td>11701</td>\n",
       "      <td>1945-12-7</td>\n",
       "      <td>4.318</td>\n",
       "      <td>0.0</td>\n",
       "      <td>31.111111</td>\n",
       "      <td>21.111111</td>\n",
       "      <td>26.111111</td>\n",
       "      <td>0</td>\n",
       "      <td>1</td>\n",
       "      <td>45</td>\n",
       "      <td>...</td>\n",
       "      <td>0.0</td>\n",
       "      <td>0.0</td>\n",
       "      <td>0.0</td>\n",
       "      <td>0.0</td>\n",
       "      <td>1</td>\n",
       "      <td>0.0</td>\n",
       "      <td>0.0</td>\n",
       "      <td>0.0</td>\n",
       "      <td>0.0</td>\n",
       "      <td>0.0</td>\n",
       "    </tr>\n",
       "    <tr>\n",
       "      <th>38207</th>\n",
       "      <td>13002</td>\n",
       "      <td>1945-6-10</td>\n",
       "      <td>0</td>\n",
       "      <td>0.0</td>\n",
       "      <td>28.888889</td>\n",
       "      <td>17.777778</td>\n",
       "      <td>23.333333</td>\n",
       "      <td>0</td>\n",
       "      <td>0</td>\n",
       "      <td>45</td>\n",
       "      <td>...</td>\n",
       "      <td>0.0</td>\n",
       "      <td>0.0</td>\n",
       "      <td>0.0</td>\n",
       "      <td>0.0</td>\n",
       "      <td>0</td>\n",
       "      <td>0.0</td>\n",
       "      <td>0.0</td>\n",
       "      <td>0.0</td>\n",
       "      <td>0.0</td>\n",
       "      <td>0.0</td>\n",
       "    </tr>\n",
       "    <tr>\n",
       "      <th>36532</th>\n",
       "      <td>12801</td>\n",
       "      <td>1943-12-20</td>\n",
       "      <td>0</td>\n",
       "      <td>0.0</td>\n",
       "      <td>21.111111</td>\n",
       "      <td>11.666667</td>\n",
       "      <td>16.666667</td>\n",
       "      <td>0</td>\n",
       "      <td>0</td>\n",
       "      <td>43</td>\n",
       "      <td>...</td>\n",
       "      <td>0.0</td>\n",
       "      <td>0.0</td>\n",
       "      <td>0.0</td>\n",
       "      <td>0.0</td>\n",
       "      <td>0</td>\n",
       "      <td>0.0</td>\n",
       "      <td>0.0</td>\n",
       "      <td>0.0</td>\n",
       "      <td>0.0</td>\n",
       "      <td>0.0</td>\n",
       "    </tr>\n",
       "    <tr>\n",
       "      <th>44469</th>\n",
       "      <td>16202</td>\n",
       "      <td>1942-9-16</td>\n",
       "      <td>0.254</td>\n",
       "      <td>0.0</td>\n",
       "      <td>12.222222</td>\n",
       "      <td>1.666667</td>\n",
       "      <td>7.222222</td>\n",
       "      <td>0</td>\n",
       "      <td>0</td>\n",
       "      <td>42</td>\n",
       "      <td>...</td>\n",
       "      <td>0.0</td>\n",
       "      <td>0.0</td>\n",
       "      <td>0.0</td>\n",
       "      <td>0.0</td>\n",
       "      <td>0</td>\n",
       "      <td>0.0</td>\n",
       "      <td>0.0</td>\n",
       "      <td>0.0</td>\n",
       "      <td>0.0</td>\n",
       "      <td>0.0</td>\n",
       "    </tr>\n",
       "    <tr>\n",
       "      <th>75809</th>\n",
       "      <td>32812</td>\n",
       "      <td>1944-12-25</td>\n",
       "      <td>0</td>\n",
       "      <td>0.0</td>\n",
       "      <td>28.888889</td>\n",
       "      <td>15.555556</td>\n",
       "      <td>22.222222</td>\n",
       "      <td>0</td>\n",
       "      <td>0</td>\n",
       "      <td>44</td>\n",
       "      <td>...</td>\n",
       "      <td>0.0</td>\n",
       "      <td>0.0</td>\n",
       "      <td>0.0</td>\n",
       "      <td>0.0</td>\n",
       "      <td>0</td>\n",
       "      <td>0.0</td>\n",
       "      <td>0.0</td>\n",
       "      <td>0.0</td>\n",
       "      <td>0.0</td>\n",
       "      <td>0.0</td>\n",
       "    </tr>\n",
       "  </tbody>\n",
       "</table>\n",
       "<p>5 rows × 31 columns</p>\n",
       "</div>"
      ],
      "text/plain": [
       "         STA        Date Precip  WindGustSpd    MaxTemp    MinTemp   MeanTemp  \\\n",
       "27642  11701   1945-12-7  4.318          0.0  31.111111  21.111111  26.111111   \n",
       "38207  13002   1945-6-10      0          0.0  28.888889  17.777778  23.333333   \n",
       "36532  12801  1943-12-20      0          0.0  21.111111  11.666667  16.666667   \n",
       "44469  16202   1942-9-16  0.254          0.0  12.222222   1.666667   7.222222   \n",
       "75809  32812  1944-12-25      0          0.0  28.888889  15.555556  22.222222   \n",
       "\n",
       "      Snowfall PoorWeather  YR ...    FB  FTI  ITH  PGT  TSHDSBRSGF  SD3  RHX  \\\n",
       "27642        0           1  45 ...   0.0  0.0  0.0  0.0           1  0.0  0.0   \n",
       "38207        0           0  45 ...   0.0  0.0  0.0  0.0           0  0.0  0.0   \n",
       "36532        0           0  43 ...   0.0  0.0  0.0  0.0           0  0.0  0.0   \n",
       "44469        0           0  42 ...   0.0  0.0  0.0  0.0           0  0.0  0.0   \n",
       "75809        0           0  44 ...   0.0  0.0  0.0  0.0           0  0.0  0.0   \n",
       "\n",
       "       RHN  RVG  WTE  \n",
       "27642  0.0  0.0  0.0  \n",
       "38207  0.0  0.0  0.0  \n",
       "36532  0.0  0.0  0.0  \n",
       "44469  0.0  0.0  0.0  \n",
       "75809  0.0  0.0  0.0  \n",
       "\n",
       "[5 rows x 31 columns]"
      ]
     },
     "execution_count": 257,
     "metadata": {},
     "output_type": "execute_result"
    }
   ],
   "source": [
    "\n",
    "data = pd.read_csv(\"datasets/weather_ww2/Summary of Weather.csv\", delimiter=',', low_memory=False)\n",
    "data.fillna(0,inplace=True)\n",
    "data = data.sample(frac=1)\n",
    "data.head()"
   ]
  },
  {
   "cell_type": "code",
   "execution_count": 258,
   "metadata": {
    "scrolled": true
   },
   "outputs": [
    {
     "data": {
      "text/html": [
       "<div>\n",
       "<style scoped>\n",
       "    .dataframe tbody tr th:only-of-type {\n",
       "        vertical-align: middle;\n",
       "    }\n",
       "\n",
       "    .dataframe tbody tr th {\n",
       "        vertical-align: top;\n",
       "    }\n",
       "\n",
       "    .dataframe thead th {\n",
       "        text-align: right;\n",
       "    }\n",
       "</style>\n",
       "<table border=\"1\" class=\"dataframe\">\n",
       "  <thead>\n",
       "    <tr style=\"text-align: right;\">\n",
       "      <th></th>\n",
       "      <th>STA</th>\n",
       "      <th>WindGustSpd</th>\n",
       "      <th>MaxTemp</th>\n",
       "      <th>MinTemp</th>\n",
       "      <th>MeanTemp</th>\n",
       "      <th>YR</th>\n",
       "      <th>MO</th>\n",
       "      <th>DA</th>\n",
       "      <th>DR</th>\n",
       "      <th>SPD</th>\n",
       "      <th>...</th>\n",
       "      <th>FT</th>\n",
       "      <th>FB</th>\n",
       "      <th>FTI</th>\n",
       "      <th>ITH</th>\n",
       "      <th>PGT</th>\n",
       "      <th>SD3</th>\n",
       "      <th>RHX</th>\n",
       "      <th>RHN</th>\n",
       "      <th>RVG</th>\n",
       "      <th>WTE</th>\n",
       "    </tr>\n",
       "  </thead>\n",
       "  <tbody>\n",
       "    <tr>\n",
       "      <th>count</th>\n",
       "      <td>119040.000000</td>\n",
       "      <td>119040.000000</td>\n",
       "      <td>119040.000000</td>\n",
       "      <td>119040.000000</td>\n",
       "      <td>119040.000000</td>\n",
       "      <td>119040.000000</td>\n",
       "      <td>119040.000000</td>\n",
       "      <td>119040.000000</td>\n",
       "      <td>119040.000000</td>\n",
       "      <td>119040.000000</td>\n",
       "      <td>...</td>\n",
       "      <td>119040.0</td>\n",
       "      <td>119040.0</td>\n",
       "      <td>119040.0</td>\n",
       "      <td>119040.0</td>\n",
       "      <td>119040.000000</td>\n",
       "      <td>119040.0</td>\n",
       "      <td>119040.0</td>\n",
       "      <td>119040.0</td>\n",
       "      <td>119040.0</td>\n",
       "      <td>119040.0</td>\n",
       "    </tr>\n",
       "    <tr>\n",
       "      <th>mean</th>\n",
       "      <td>29659.435795</td>\n",
       "      <td>0.168818</td>\n",
       "      <td>27.045111</td>\n",
       "      <td>17.789511</td>\n",
       "      <td>22.411631</td>\n",
       "      <td>43.805284</td>\n",
       "      <td>6.726016</td>\n",
       "      <td>15.797530</td>\n",
       "      <td>0.120884</td>\n",
       "      <td>0.091154</td>\n",
       "      <td>...</td>\n",
       "      <td>0.0</td>\n",
       "      <td>0.0</td>\n",
       "      <td>0.0</td>\n",
       "      <td>0.0</td>\n",
       "      <td>0.053300</td>\n",
       "      <td>0.0</td>\n",
       "      <td>0.0</td>\n",
       "      <td>0.0</td>\n",
       "      <td>0.0</td>\n",
       "      <td>0.0</td>\n",
       "    </tr>\n",
       "    <tr>\n",
       "      <th>std</th>\n",
       "      <td>20953.209402</td>\n",
       "      <td>2.611819</td>\n",
       "      <td>8.717817</td>\n",
       "      <td>8.334572</td>\n",
       "      <td>8.297982</td>\n",
       "      <td>1.136718</td>\n",
       "      <td>3.425561</td>\n",
       "      <td>8.794541</td>\n",
       "      <td>2.069915</td>\n",
       "      <td>1.410269</td>\n",
       "      <td>...</td>\n",
       "      <td>0.0</td>\n",
       "      <td>0.0</td>\n",
       "      <td>0.0</td>\n",
       "      <td>0.0</td>\n",
       "      <td>0.886512</td>\n",
       "      <td>0.0</td>\n",
       "      <td>0.0</td>\n",
       "      <td>0.0</td>\n",
       "      <td>0.0</td>\n",
       "      <td>0.0</td>\n",
       "    </tr>\n",
       "    <tr>\n",
       "      <th>min</th>\n",
       "      <td>10001.000000</td>\n",
       "      <td>0.000000</td>\n",
       "      <td>-33.333333</td>\n",
       "      <td>-38.333333</td>\n",
       "      <td>-35.555556</td>\n",
       "      <td>40.000000</td>\n",
       "      <td>1.000000</td>\n",
       "      <td>1.000000</td>\n",
       "      <td>0.000000</td>\n",
       "      <td>0.000000</td>\n",
       "      <td>...</td>\n",
       "      <td>0.0</td>\n",
       "      <td>0.0</td>\n",
       "      <td>0.0</td>\n",
       "      <td>0.0</td>\n",
       "      <td>0.000000</td>\n",
       "      <td>0.0</td>\n",
       "      <td>0.0</td>\n",
       "      <td>0.0</td>\n",
       "      <td>0.0</td>\n",
       "      <td>0.0</td>\n",
       "    </tr>\n",
       "    <tr>\n",
       "      <th>25%</th>\n",
       "      <td>11801.000000</td>\n",
       "      <td>0.000000</td>\n",
       "      <td>25.555556</td>\n",
       "      <td>15.000000</td>\n",
       "      <td>20.555556</td>\n",
       "      <td>43.000000</td>\n",
       "      <td>4.000000</td>\n",
       "      <td>8.000000</td>\n",
       "      <td>0.000000</td>\n",
       "      <td>0.000000</td>\n",
       "      <td>...</td>\n",
       "      <td>0.0</td>\n",
       "      <td>0.0</td>\n",
       "      <td>0.0</td>\n",
       "      <td>0.0</td>\n",
       "      <td>0.000000</td>\n",
       "      <td>0.0</td>\n",
       "      <td>0.0</td>\n",
       "      <td>0.0</td>\n",
       "      <td>0.0</td>\n",
       "      <td>0.0</td>\n",
       "    </tr>\n",
       "    <tr>\n",
       "      <th>50%</th>\n",
       "      <td>22508.000000</td>\n",
       "      <td>0.000000</td>\n",
       "      <td>29.444444</td>\n",
       "      <td>21.111111</td>\n",
       "      <td>25.555556</td>\n",
       "      <td>44.000000</td>\n",
       "      <td>7.000000</td>\n",
       "      <td>16.000000</td>\n",
       "      <td>0.000000</td>\n",
       "      <td>0.000000</td>\n",
       "      <td>...</td>\n",
       "      <td>0.0</td>\n",
       "      <td>0.0</td>\n",
       "      <td>0.0</td>\n",
       "      <td>0.0</td>\n",
       "      <td>0.000000</td>\n",
       "      <td>0.0</td>\n",
       "      <td>0.0</td>\n",
       "      <td>0.0</td>\n",
       "      <td>0.0</td>\n",
       "      <td>0.0</td>\n",
       "    </tr>\n",
       "    <tr>\n",
       "      <th>75%</th>\n",
       "      <td>33501.000000</td>\n",
       "      <td>0.000000</td>\n",
       "      <td>31.666667</td>\n",
       "      <td>23.333333</td>\n",
       "      <td>27.222222</td>\n",
       "      <td>45.000000</td>\n",
       "      <td>10.000000</td>\n",
       "      <td>23.000000</td>\n",
       "      <td>0.000000</td>\n",
       "      <td>0.000000</td>\n",
       "      <td>...</td>\n",
       "      <td>0.0</td>\n",
       "      <td>0.0</td>\n",
       "      <td>0.0</td>\n",
       "      <td>0.0</td>\n",
       "      <td>0.000000</td>\n",
       "      <td>0.0</td>\n",
       "      <td>0.0</td>\n",
       "      <td>0.0</td>\n",
       "      <td>0.0</td>\n",
       "      <td>0.0</td>\n",
       "    </tr>\n",
       "    <tr>\n",
       "      <th>max</th>\n",
       "      <td>82506.000000</td>\n",
       "      <td>75.932000</td>\n",
       "      <td>50.000000</td>\n",
       "      <td>34.444444</td>\n",
       "      <td>40.000000</td>\n",
       "      <td>45.000000</td>\n",
       "      <td>12.000000</td>\n",
       "      <td>31.000000</td>\n",
       "      <td>78.000000</td>\n",
       "      <td>41.000000</td>\n",
       "      <td>...</td>\n",
       "      <td>0.0</td>\n",
       "      <td>0.0</td>\n",
       "      <td>0.0</td>\n",
       "      <td>0.0</td>\n",
       "      <td>23.900000</td>\n",
       "      <td>0.0</td>\n",
       "      <td>0.0</td>\n",
       "      <td>0.0</td>\n",
       "      <td>0.0</td>\n",
       "      <td>0.0</td>\n",
       "    </tr>\n",
       "  </tbody>\n",
       "</table>\n",
       "<p>8 rows × 24 columns</p>\n",
       "</div>"
      ],
      "text/plain": [
       "                 STA    WindGustSpd        MaxTemp        MinTemp  \\\n",
       "count  119040.000000  119040.000000  119040.000000  119040.000000   \n",
       "mean    29659.435795       0.168818      27.045111      17.789511   \n",
       "std     20953.209402       2.611819       8.717817       8.334572   \n",
       "min     10001.000000       0.000000     -33.333333     -38.333333   \n",
       "25%     11801.000000       0.000000      25.555556      15.000000   \n",
       "50%     22508.000000       0.000000      29.444444      21.111111   \n",
       "75%     33501.000000       0.000000      31.666667      23.333333   \n",
       "max     82506.000000      75.932000      50.000000      34.444444   \n",
       "\n",
       "            MeanTemp             YR             MO             DA  \\\n",
       "count  119040.000000  119040.000000  119040.000000  119040.000000   \n",
       "mean       22.411631      43.805284       6.726016      15.797530   \n",
       "std         8.297982       1.136718       3.425561       8.794541   \n",
       "min       -35.555556      40.000000       1.000000       1.000000   \n",
       "25%        20.555556      43.000000       4.000000       8.000000   \n",
       "50%        25.555556      44.000000       7.000000      16.000000   \n",
       "75%        27.222222      45.000000      10.000000      23.000000   \n",
       "max        40.000000      45.000000      12.000000      31.000000   \n",
       "\n",
       "                  DR            SPD    ...           FT        FB       FTI  \\\n",
       "count  119040.000000  119040.000000    ...     119040.0  119040.0  119040.0   \n",
       "mean        0.120884       0.091154    ...          0.0       0.0       0.0   \n",
       "std         2.069915       1.410269    ...          0.0       0.0       0.0   \n",
       "min         0.000000       0.000000    ...          0.0       0.0       0.0   \n",
       "25%         0.000000       0.000000    ...          0.0       0.0       0.0   \n",
       "50%         0.000000       0.000000    ...          0.0       0.0       0.0   \n",
       "75%         0.000000       0.000000    ...          0.0       0.0       0.0   \n",
       "max        78.000000      41.000000    ...          0.0       0.0       0.0   \n",
       "\n",
       "            ITH            PGT       SD3       RHX       RHN       RVG  \\\n",
       "count  119040.0  119040.000000  119040.0  119040.0  119040.0  119040.0   \n",
       "mean        0.0       0.053300       0.0       0.0       0.0       0.0   \n",
       "std         0.0       0.886512       0.0       0.0       0.0       0.0   \n",
       "min         0.0       0.000000       0.0       0.0       0.0       0.0   \n",
       "25%         0.0       0.000000       0.0       0.0       0.0       0.0   \n",
       "50%         0.0       0.000000       0.0       0.0       0.0       0.0   \n",
       "75%         0.0       0.000000       0.0       0.0       0.0       0.0   \n",
       "max         0.0      23.900000       0.0       0.0       0.0       0.0   \n",
       "\n",
       "            WTE  \n",
       "count  119040.0  \n",
       "mean        0.0  \n",
       "std         0.0  \n",
       "min         0.0  \n",
       "25%         0.0  \n",
       "50%         0.0  \n",
       "75%         0.0  \n",
       "max         0.0  \n",
       "\n",
       "[8 rows x 24 columns]"
      ]
     },
     "execution_count": 258,
     "metadata": {},
     "output_type": "execute_result"
    }
   ],
   "source": [
    "data.describe()"
   ]
  },
  {
   "cell_type": "markdown",
   "metadata": {},
   "source": [
    "## Representing the data\n",
    "Now we select the rows we are going to use."
   ]
  },
  {
   "cell_type": "code",
   "execution_count": 259,
   "metadata": {
    "scrolled": true
   },
   "outputs": [
    {
     "data": {
      "text/html": [
       "<div>\n",
       "<style scoped>\n",
       "    .dataframe tbody tr th:only-of-type {\n",
       "        vertical-align: middle;\n",
       "    }\n",
       "\n",
       "    .dataframe tbody tr th {\n",
       "        vertical-align: top;\n",
       "    }\n",
       "\n",
       "    .dataframe thead th {\n",
       "        text-align: right;\n",
       "    }\n",
       "</style>\n",
       "<table border=\"1\" class=\"dataframe\">\n",
       "  <thead>\n",
       "    <tr style=\"text-align: right;\">\n",
       "      <th></th>\n",
       "      <th>MaxTemp</th>\n",
       "      <th>MinTemp</th>\n",
       "    </tr>\n",
       "  </thead>\n",
       "  <tbody>\n",
       "    <tr>\n",
       "      <th>count</th>\n",
       "      <td>119040.000000</td>\n",
       "      <td>119040.000000</td>\n",
       "    </tr>\n",
       "    <tr>\n",
       "      <th>mean</th>\n",
       "      <td>27.045111</td>\n",
       "      <td>17.789511</td>\n",
       "    </tr>\n",
       "    <tr>\n",
       "      <th>std</th>\n",
       "      <td>8.717817</td>\n",
       "      <td>8.334572</td>\n",
       "    </tr>\n",
       "    <tr>\n",
       "      <th>min</th>\n",
       "      <td>-33.333333</td>\n",
       "      <td>-38.333333</td>\n",
       "    </tr>\n",
       "    <tr>\n",
       "      <th>25%</th>\n",
       "      <td>25.555556</td>\n",
       "      <td>15.000000</td>\n",
       "    </tr>\n",
       "    <tr>\n",
       "      <th>50%</th>\n",
       "      <td>29.444444</td>\n",
       "      <td>21.111111</td>\n",
       "    </tr>\n",
       "    <tr>\n",
       "      <th>75%</th>\n",
       "      <td>31.666667</td>\n",
       "      <td>23.333333</td>\n",
       "    </tr>\n",
       "    <tr>\n",
       "      <th>max</th>\n",
       "      <td>50.000000</td>\n",
       "      <td>34.444444</td>\n",
       "    </tr>\n",
       "  </tbody>\n",
       "</table>\n",
       "</div>"
      ],
      "text/plain": [
       "             MaxTemp        MinTemp\n",
       "count  119040.000000  119040.000000\n",
       "mean       27.045111      17.789511\n",
       "std         8.717817       8.334572\n",
       "min       -33.333333     -38.333333\n",
       "25%        25.555556      15.000000\n",
       "50%        29.444444      21.111111\n",
       "75%        31.666667      23.333333\n",
       "max        50.000000      34.444444"
      ]
     },
     "execution_count": 259,
     "metadata": {},
     "output_type": "execute_result"
    }
   ],
   "source": [
    "columns = ['MaxTemp','MinTemp']\n",
    "filteredColumns = data[columns]\n",
    "filteredColumns.describe()"
   ]
  },
  {
   "cell_type": "markdown",
   "metadata": {},
   "source": [
    "We print a plot graph representing the data."
   ]
  },
  {
   "cell_type": "code",
   "execution_count": 260,
   "metadata": {},
   "outputs": [
    {
     "data": {
      "text/plain": [
       "[<matplotlib.lines.Line2D at 0x17a07affa58>]"
      ]
     },
     "execution_count": 260,
     "metadata": {},
     "output_type": "execute_result"
    },
    {
     "data": {
      "image/png": "[encoded data removed]",
      "text/plain": [
       "<Figure size 1080x720 with 1 Axes>"
      ]
     },
     "metadata": {},
     "output_type": "display_data"
    }
   ],
   "source": [
    "plt.figure(figsize=(15,10))\n",
    "x = filteredColumns['MinTemp']\n",
    "y = filteredColumns['MaxTemp']\n",
    "plt.plot(x,y,'mo')"
   ]
  },
  {
   "cell_type": "markdown",
   "metadata": {},
   "source": [
    "And we print a nice graph representing the Minimum temperature / Mean(Maximum temperature)."
   ]
  },
  {
   "cell_type": "code",
   "execution_count": 261,
   "metadata": {},
   "outputs": [
    {
     "data": {
      "text/plain": [
       "[<matplotlib.lines.Line2D at 0x17a09267668>]"
      ]
     },
     "execution_count": 261,
     "metadata": {},
     "output_type": "execute_result"
    },
    {
     "data": {
      "image/png": "[encoded data removed]",
      "text/plain": [
       "<Figure size 1080x720 with 1 Axes>"
      ]
     },
     "metadata": {},
     "output_type": "display_data"
    }
   ],
   "source": [
    "#group the data by MinTemp (x axis)\n",
    "#calculate the mean of the MaxTemp (y axis)\n",
    "#reset the dataframe with the column names as indexes\n",
    "dataWithYAsMean = filteredColumns.groupby('MinTemp').mean().reset_index()\n",
    "\n",
    "x_grouped = dataWithYAsMean['MinTemp']\n",
    "y_grouped = dataWithYAsMean['MaxTemp']\n",
    "\n",
    "plt.figure(figsize=(15,10))\n",
    "\n",
    "plt.title('Minimum temperature / Mean(Maximum temperature)')\n",
    "plt.xlabel('Minimum temperature')\n",
    "plt.ylabel('Mean (Maximum temperature)')\n",
    "plt.plot(x_grouped,y_grouped,'mo')"
   ]
  },
  {
   "cell_type": "markdown",
   "metadata": {},
   "source": [
    "## Simple linear regression algorithm\n",
    "We first declare our Error function. We are going to use the __[Root Mean Squared Error(RMSE)](http://www.statisticshowto.com/rmse/)__ to evaluate our prediction.<br>\n",
    "The Root Mean Squared Error equation is:<br>\n",
    "$$\n",
    "\\begin{align*}\n",
    "RMSE &= \\sqrt{\\frac{1}{n}\\sum_{i=1}^n(Y_i - \\hat{Y})^2}\n",
    "\\end{align*}\n",
    "$$"
   ]
  },
  {
   "cell_type": "code",
   "execution_count": 262,
   "metadata": {},
   "outputs": [],
   "source": [
    "# Calculate the mean of a list of numbers\n",
    "def calculate_mean(values):\n",
    "    return sum(values)/float(len(values))\n",
    "\n",
    "# Calculate root mean squared error\n",
    "def root_mean_squared_error(actual_values, predicted_values):\n",
    "    sum_value = .0\n",
    "    for i in range(len(actual_values)):\n",
    "        sum_value += ((predicted_values[i] - actual_values[i]) ** 2)\n",
    "        \n",
    "    return sqrt(sum_value/float(len(actual_values)))\n",
    "    "
   ]
  },
  {
   "cell_type": "markdown",
   "metadata": {},
   "source": [
    "We then define our simple linear regression function. To get our line, we need to minimize our loss function. <br>\n",
    "You can find out more about it in this nice __[document](https://www.amherst.edu/system/files/media/1287/SLR_Leastsquares.pdf)__. <br>\n",
    "To resume, the optimal b1 and b0 values can be found using those equations: <br><br>\n",
    "$$\n",
    "\\begin{align*}\n",
    "\\hat{\\beta}_1 &= \\frac{\\sum_{i=1}^n(X_i - \\bar{X})(Y_i-\\bar{Y})}{\\sum_{i=1}^n(X_i - \\bar{X})^2} \\\\\n",
    "\\hat{\\beta}_0 &= \\bar{Y} - \\hat{\\beta}_1 \\bar{X} \\\\\n",
    "\\end{align*}\n",
    "$$\n",
    "We can write b1 with covarience and variance formulas:\n",
    "$$\n",
    "\\DeclareMathOperator{\\Var}{Var}\n",
    "\\DeclareMathOperator{\\Cov}{Cov}\n",
    "\\begin{align*}\n",
    "\\hat{\\beta}_1 &= \\frac{\\Cov(X,Y)}{\\Var(X)}\n",
    "\\end{align*}\n",
    "$$\n",
    "Note that Covariance and Varience formulas are:\n",
    "$$\n",
    "\\begin{align*}\n",
    "\\Cov(X,Y) &= \\frac{1}{n}\\sum_{i=1}^n(X_i - \\bar{X})(Y_i-\\bar{Y}) \\\\\n",
    "\\Var(X) &= \\frac{1}{n}\\sum_{i=1}^n(X_i - \\bar{X})^2\n",
    "\\end{align*}\n",
    "$$"
   ]
  },
  {
   "cell_type": "code",
   "execution_count": 285,
   "metadata": {},
   "outputs": [],
   "source": [
    "# Covariance function\n",
    "def covariance(x,y):\n",
    "    # calculate the mean of x and y\n",
    "    mean_x = calculate_mean(x)\n",
    "    mean_y = calculate_mean(y)\n",
    "    \n",
    "    # calculate covariance\n",
    "    cov = .0\n",
    "    for i in range(len(x)):\n",
    "        cov += (x[i] - mean_x) * (y[i] - mean_y)\n",
    "        \n",
    "        \n",
    "    return cov / float(len(x))\n",
    "\n",
    "# Variance function\n",
    "def variance(x):\n",
    "    # calculate the mean of x\n",
    "    mean_x = calculate_mean(x)\n",
    "    \n",
    "    # calculate variance\n",
    "    var = .0\n",
    "    for x_i in x:\n",
    "        var += ((x_i - mean_x) ** 2)\n",
    "        \n",
    "    return var / float(len(x))\n",
    "    \n",
    "# Simple linear regression algorithm\n",
    "# For our example, we are going to try to find the equation of our line\n",
    "# y = b0 + b1*x\n",
    "def simple_linear_regression(x, y):\n",
    "    # calculate the mean of x and y\n",
    "    mean_x = calculate_mean(x)\n",
    "    mean_y = calculate_mean(y)\n",
    "    \n",
    "    # calculate the regression coefficients\n",
    "    b1 = covariance(x,y) / variance(x)\n",
    "    b0 = mean_y - (b1 * mean_x)\n",
    "    \n",
    "    return b0, b1\n",
    "    \n",
    "# linear regression plot function\n",
    "def plot_linear_regression_result(x,y,predicted_y):\n",
    "    # plotting the actual points as a scatter\n",
    "    plt.figure(figsize=(12,8))\n",
    "    plt.scatter(x,y,color = \"y\", marker = \"o\",s=30)\n",
    "    \n",
    "    # plotting the regression line\n",
    "    plt.plot(x, predicted_y, color = \"m\", linewidth=2)\n",
    " \n",
    "    # putting labels\n",
    "    plt.title('Linear regression of Min/Max Temperature during World War 2')\n",
    "    plt.xlabel('Min Temperature')\n",
    "    plt.ylabel('Max Temperature')\n",
    " \n",
    "    # function to show plot\n",
    "    plt.show()"
   ]
  },
  {
   "cell_type": "markdown",
   "metadata": {},
   "source": [
    "We now create a function to split our data into training and testing data."
   ]
  },
  {
   "cell_type": "code",
   "execution_count": 264,
   "metadata": {},
   "outputs": [],
   "source": [
    "# function for splitting the data into training and testing\n",
    "def split_data(x,train_split_rate = .5):\n",
    "    train_x = x.iloc[:int(round(len(x)*train_split_rate))]\n",
    "    test_x = x.iloc[int(round(len(x)*train_split_rate)):]\n",
    "    \n",
    "    train_x.index = range(len(train_x))\n",
    "    test_x.index = range(len(test_x))\n",
    "    \n",
    "    return train_x, test_x\n"
   ]
  },
  {
   "cell_type": "markdown",
   "metadata": {},
   "source": [
    "Plotting a nice representation of our simple linear regression result"
   ]
  },
  {
   "cell_type": "code",
   "execution_count": 265,
   "metadata": {
    "scrolled": false
   },
   "outputs": [
    {
     "data": {
      "image/png": "[encoded data removed]",
      "text/plain": [
       "<Figure size 864x576 with 1 Axes>"
      ]
     },
     "metadata": {},
     "output_type": "display_data"
    }
   ],
   "source": [
    "# splitting the data\n",
    "train_data, test_data = split_data(data,train_split_rate=.5)\n",
    "train_x, test_x = train_data['MinTemp'], test_data['MinTemp']\n",
    "train_y, test_y = train_data['MaxTemp'], test_data['MaxTemp']\n",
    "\n",
    "# getting the predicted y values\n",
    "b0, b1 = simple_linear_regression(train_x,train_y)\n",
    "\n",
    "# predicted vector\n",
    "predicted_y = b0 + (b1 * test_x)\n",
    "\n",
    "# calling the plot function\n",
    "plot_linear_regression_result(test_x,test_y,predicted_y)"
   ]
  },
  {
   "cell_type": "markdown",
   "metadata": {},
   "source": [
    "The predicted line equation :"
   ]
  },
  {
   "cell_type": "code",
   "execution_count": 266,
   "metadata": {},
   "outputs": [
    {
     "name": "stdout",
     "output_type": "stream",
     "text": [
      "Y = 10.699523994638628 + (0.918259789068861 * X)\n"
     ]
    }
   ],
   "source": [
    "print(\"Y = {} + ({} * X)\".format(b0,b1))"
   ]
  },
  {
   "cell_type": "markdown",
   "metadata": {},
   "source": [
    "And finally, we print our loss."
   ]
  },
  {
   "cell_type": "code",
   "execution_count": 267,
   "metadata": {},
   "outputs": [
    {
     "name": "stdout",
     "output_type": "stream",
     "text": [
      "Root Mean Squared Error value = 4.1719691434259225\n"
     ]
    }
   ],
   "source": [
    "rmse = root_mean_squared_error(test_y,predicted_y)\n",
    "print(\"Root Mean Squared Error value = {}\".format(rmse))"
   ]
  },
  {
   "cell_type": "markdown",
   "metadata": {},
   "source": [
    "## Implementing simple linear regression using sklearn\n",
    "We are now going to implement the same algorithm using sklearn\n",
    "\n",
    "### We import our dependencies"
   ]
  },
  {
   "cell_type": "code",
   "execution_count": 268,
   "metadata": {},
   "outputs": [],
   "source": [
    "from sklearn.model_selection import train_test_split\n",
    "from sklearn.metrics import mean_squared_error\n",
    "from sklearn.linear_model import LinearRegression"
   ]
  },
  {
   "cell_type": "markdown",
   "metadata": {},
   "source": [
    "And now we split the data into training and testing. With shuffeling of course. And we reshape the training and testing X value."
   ]
  },
  {
   "cell_type": "code",
   "execution_count": 277,
   "metadata": {},
   "outputs": [],
   "source": [
    "train_x, test_x, train_y, test_y = train_test_split(x,y,test_size=0.5,shuffle=True)\n",
    "\n",
    "train_x = train_x.values.reshape(-1,1)\n",
    "test_x = test_x.values.reshape(-1,1)"
   ]
  },
  {
   "cell_type": "markdown",
   "metadata": {},
   "source": [
    "Then we fit our linear regression model."
   ]
  },
  {
   "cell_type": "code",
   "execution_count": 280,
   "metadata": {},
   "outputs": [
    {
     "data": {
      "text/plain": [
       "LinearRegression(copy_X=True, fit_intercept=True, n_jobs=1, normalize=False)"
      ]
     },
     "execution_count": 280,
     "metadata": {},
     "output_type": "execute_result"
    }
   ],
   "source": [
    "simple_linear_regression = LinearRegression()\n",
    "simple_linear_regression.fit(train_x,train_y)"
   ]
  },
  {
   "cell_type": "markdown",
   "metadata": {},
   "source": [
    "We can then test our model with the predict function and see how well it did with the mean_squared_error function"
   ]
  },
  {
   "cell_type": "code",
   "execution_count": 281,
   "metadata": {},
   "outputs": [
    {
     "name": "stdout",
     "output_type": "stream",
     "text": [
      "Root Mean Squared Error value = 4.1626296345345395\n"
     ]
    }
   ],
   "source": [
    "predicted_y = simple_linear_regression.predict(test_x)\n",
    "rmse = sqrt(mean_squared_error(test_y,predicted_y))\n",
    "\n",
    "print(\"Root Mean Squared Error value = {}\".format(rmse))"
   ]
  },
  {
   "cell_type": "markdown",
   "metadata": {},
   "source": [
    "And lastly, a little graph representing the linear regression."
   ]
  },
  {
   "cell_type": "code",
   "execution_count": 286,
   "metadata": {},
   "outputs": [
    {
     "data": {
      "image/png": "[encoded data removed]",
      "text/plain": [
       "<Figure size 864x576 with 1 Axes>"
      ]
     },
     "metadata": {},
     "output_type": "display_data"
    }
   ],
   "source": [
    "plot_linear_regression_result(test_x,test_y,predicted_y)"
   ]
  },
  {
   "cell_type": "code",
   "execution_count": null,
   "metadata": {},
   "outputs": [],
   "source": []
  }
 ],
 "metadata": {
  "kernelspec": {
   "display_name": "linear-regression-SGD",
   "language": "python",
   "name": "linear-regression-sgd"
  },
  "language_info": {
   "codemirror_mode": {
    "name": "ipython",
    "version": 3
   },
   "file_extension": ".py",
   "mimetype": "text/x-python",
   "name": "python",
   "nbconvert_exporter": "python",
   "pygments_lexer": "ipython3",
   "version": "3.6.4"
  }
 },
 "nbformat": 4,
 "nbformat_minor": 1
}
